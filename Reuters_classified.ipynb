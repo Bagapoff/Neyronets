{
  "nbformat": 4,
  "nbformat_minor": 0,
  "metadata": {
    "colab": {
      "name": "Reuters_classified",
      "provenance": [],
      "collapsed_sections": [],
      "authorship_tag": "ABX9TyO1/XdwhqTtl/mQDzXPfSv+"
    },
    "kernelspec": {
      "name": "python3",
      "display_name": "Python 3"
    }
  },
  "cells": [
    {
      "cell_type": "code",
      "metadata": {
        "id": "EQ4NRet37BwN",
        "colab_type": "code",
        "colab": {
          "base_uri": "https://localhost:8080/",
          "height": 54
        },
        "outputId": "a36e1382-7011-43c3-8d11-2e756b89a7f1"
      },
      "source": [
        "import os\n",
        "from operator import itemgetter    \n",
        "import numpy as np\n",
        "import pandas as pd\n",
        "\n",
        "import seaborn as sns\n",
        "import matplotlib.pyplot as plt\n",
        "%matplotlib inline\n",
        "get_ipython().magic(u'matplotlib inline')\n",
        "plt.style.use('ggplot')\n",
        "\n",
        "import warnings\n",
        "warnings.filterwarnings('ignore')\n",
        "from sklearn.metrics import confusion_matrix, precision_score, recall_score, accuracy_score, f1_score\n",
        "from sklearn.model_selection import cross_val_predict\n",
        "from sklearn.metrics import confusion_matrix\n",
        "from sklearn.metrics import precision_recall_curve, average_precision_score, auc\n",
        "#from sklearn.utils.fixes import signature\n",
        "from sklearn.decomposition import PCA\n",
        "from sklearn.metrics import roc_curve\n",
        "from sklearn.metrics import roc_auc_score\n",
        "\n",
        "\n",
        "import tensorflow as tf\n",
        "from keras import models, regularizers, layers, optimizers, losses, metrics\n",
        "from keras.models import Sequential\n",
        "from keras.layers import Dense, Dropout, Embedding, Activation, LSTM, GRU, SpatialDropout1D, Flatten\n",
        "from keras.utils import np_utils, to_categorical\n",
        "from keras.callbacks import EarlyStopping, ModelCheckpoint, ReduceLROnPlateau\n",
        "\n",
        "from keras.datasets import reuters"
      ],
      "execution_count": 1,
      "outputs": [
        {
          "output_type": "stream",
          "text": [
            "/usr/local/lib/python3.6/dist-packages/statsmodels/tools/_testing.py:19: FutureWarning: pandas.util.testing is deprecated. Use the functions in the public API at pandas.testing instead.\n",
            "  import pandas.util.testing as tm\n"
          ],
          "name": "stderr"
        }
      ]
    },
    {
      "cell_type": "code",
      "metadata": {
        "id": "qVdC0-W1YzKl",
        "colab_type": "code",
        "colab": {}
      },
      "source": [
        "cb_EarlyStopping = EarlyStopping(monitor='val_accuracy', mode='max', verbose=1, patience=10)\n",
        "cb_ModelCheckpoint = ModelCheckpoint(filepath='model.best.hdf5', monitor='val_accuracy', mode='max', verbose=1, save_best_only=True)\n",
        "cb_ReduceLROnPlateau = ReduceLROnPlateau(monitor='val_accuracy', factor=0.1, patience=3, verbose=1, mode='max', min_lr=0.00000001)"
      ],
      "execution_count": 2,
      "outputs": []
    },
    {
      "cell_type": "code",
      "metadata": {
        "id": "Jp6pdmV_7H9D",
        "colab_type": "code",
        "colab": {
          "base_uri": "https://localhost:8080/",
          "height": 54
        },
        "outputId": "ac26d01b-f5c9-44c3-ba29-f3ba5bcf3546"
      },
      "source": [
        "(train_data, train_labels), (test_data, test_labels) = reuters.load_data(num_words=10000)"
      ],
      "execution_count": 3,
      "outputs": [
        {
          "output_type": "stream",
          "text": [
            "Downloading data from https://storage.googleapis.com/tensorflow/tf-keras-datasets/reuters.npz\n",
            "2113536/2110848 [==============================] - 0s 0us/step\n"
          ],
          "name": "stdout"
        }
      ]
    },
    {
      "cell_type": "code",
      "metadata": {
        "id": "eOTXbBB282zw",
        "colab_type": "code",
        "colab": {
          "base_uri": "https://localhost:8080/",
          "height": 90
        },
        "outputId": "196589ae-fd59-417a-a286-d98d9032b331"
      },
      "source": [
        "print(\"train_data \", train_data.shape)\n",
        "print(\"train_labels \", train_labels.shape)\n",
        "print(\"test_data \", test_data.shape)\n",
        "print(\"test_labels \", test_labels.shape)"
      ],
      "execution_count": 4,
      "outputs": [
        {
          "output_type": "stream",
          "text": [
            "train_data  (8982,)\n",
            "train_labels  (8982,)\n",
            "test_data  (2246,)\n",
            "test_labels  (2246,)\n"
          ],
          "name": "stdout"
        }
      ]
    },
    {
      "cell_type": "code",
      "metadata": {
        "id": "EVmIvy2t9Ys2",
        "colab_type": "code",
        "colab": {
          "base_uri": "https://localhost:8080/",
          "height": 129
        },
        "outputId": "a7ec8e84-e9db-4d82-e658-05b9e76b7c13"
      },
      "source": [
        "# Заменим числа в тренировочном датасете, чтобы видеть слова\n",
        "# Заметинм, что индекс начинаются с 3, потому что 0,1,2 являются специальными для отступа, начала последовательности и неизвестного символа. \n",
        "\n",
        "word_index = reuters.get_word_index()\n",
        "reverse_word_index = dict([(value, key) for (key, value) in word_index.items()])\n",
        "decoded_newswire = ' '.join([reverse_word_index.get(i - 3, '?') for i in\n",
        "train_data[0]])\n",
        "\n",
        "print(train_data[0])\n",
        "print(decoded_newswire)\n",
        "print(train_labels[0])"
      ],
      "execution_count": 5,
      "outputs": [
        {
          "output_type": "stream",
          "text": [
            "Downloading data from https://storage.googleapis.com/tensorflow/tf-keras-datasets/reuters_word_index.json\n",
            "557056/550378 [==============================] - 0s 0us/step\n",
            "[1, 2, 2, 8, 43, 10, 447, 5, 25, 207, 270, 5, 3095, 111, 16, 369, 186, 90, 67, 7, 89, 5, 19, 102, 6, 19, 124, 15, 90, 67, 84, 22, 482, 26, 7, 48, 4, 49, 8, 864, 39, 209, 154, 6, 151, 6, 83, 11, 15, 22, 155, 11, 15, 7, 48, 9, 4579, 1005, 504, 6, 258, 6, 272, 11, 15, 22, 134, 44, 11, 15, 16, 8, 197, 1245, 90, 67, 52, 29, 209, 30, 32, 132, 6, 109, 15, 17, 12]\n",
            "? ? ? said as a result of its december acquisition of space co it expects earnings per share in 1987 of 1 15 to 1 30 dlrs per share up from 70 cts in 1986 the company said pretax net should rise to nine to 10 mln dlrs from six mln dlrs in 1986 and rental operation revenues to 19 to 22 mln dlrs from 12 5 mln dlrs it said cash flow per share this year should be 2 50 to three dlrs reuter 3\n",
            "3\n"
          ],
          "name": "stdout"
        }
      ]
    },
    {
      "cell_type": "code",
      "metadata": {
        "id": "r3sn5Kpb93Zv",
        "colab_type": "code",
        "colab": {}
      },
      "source": [
        "#Векторизация функция\n",
        "def vectorize_sequences(sequences, dimension=10000):\n",
        "    results = np.zeros((len(sequences), dimension))\n",
        "    for i, sequence in enumerate(sequences):\n",
        "        results[i, sequence] = 1.\n",
        "    return results"
      ],
      "execution_count": 6,
      "outputs": []
    },
    {
      "cell_type": "code",
      "metadata": {
        "id": "-8FUzsl1-iOr",
        "colab_type": "code",
        "colab": {
          "base_uri": "https://localhost:8080/",
          "height": 54
        },
        "outputId": "4e8a8663-3568-4ef7-cb39-e0d6ddd4abdb"
      },
      "source": [
        "# Векторизация и нормализация тренировочного и тестового датасетов\n",
        "\n",
        "x_train = vectorize_sequences(train_data)\n",
        "x_test = vectorize_sequences(test_data)\n",
        "\n",
        "print(\"x_train \", x_train.shape)\n",
        "print(\"x_test \", x_test.shape)"
      ],
      "execution_count": 7,
      "outputs": [
        {
          "output_type": "stream",
          "text": [
            "x_train  (8982, 10000)\n",
            "x_test  (2246, 10000)\n"
          ],
          "name": "stdout"
        }
      ]
    },
    {
      "cell_type": "code",
      "metadata": {
        "id": "NKANASoX-r50",
        "colab_type": "code",
        "colab": {
          "base_uri": "https://localhost:8080/",
          "height": 54
        },
        "outputId": "bc5ff4c1-5484-43a3-bd7a-6f4343b44b04"
      },
      "source": [
        "# Векторизация меток\n",
        "one_hot_train_labels = to_categorical(train_labels)\n",
        "one_hot_test_labels = to_categorical(test_labels)\n",
        "\n",
        "print(\"one_hot_train_labels \", one_hot_train_labels.shape)\n",
        "print(\"one_hot_test_labels \", one_hot_test_labels.shape)"
      ],
      "execution_count": 8,
      "outputs": [
        {
          "output_type": "stream",
          "text": [
            "one_hot_train_labels  (8982, 46)\n",
            "one_hot_test_labels  (2246, 46)\n"
          ],
          "name": "stdout"
        }
      ]
    },
    {
      "cell_type": "code",
      "metadata": {
        "id": "_9kT2AaF-9IM",
        "colab_type": "code",
        "colab": {
          "base_uri": "https://localhost:8080/",
          "height": 90
        },
        "outputId": "85deab29-9d50-4a06-f8f6-9706f112d0bd"
      },
      "source": [
        "# Задание валидационной выборки\n",
        "\n",
        "x_val = x_train[:1000]\n",
        "partial_x_train = x_train[1000:]\n",
        "y_val = one_hot_train_labels[:1000]\n",
        "partial_y_train = one_hot_train_labels[1000:]\n",
        "\n",
        "print(\"x_val \", x_val.shape)\n",
        "print(\"y_val \", y_val.shape)\n",
        "\n",
        "print(\"partial_x_train \", partial_x_train.shape)\n",
        "print(\"partial_y_train \", partial_y_train.shape)"
      ],
      "execution_count": 9,
      "outputs": [
        {
          "output_type": "stream",
          "text": [
            "x_val  (1000, 10000)\n",
            "y_val  (1000, 46)\n",
            "partial_x_train  (7982, 10000)\n",
            "partial_y_train  (7982, 46)\n"
          ],
          "name": "stdout"
        }
      ]
    },
    {
      "cell_type": "code",
      "metadata": {
        "id": "s2JJD8jQ_LAY",
        "colab_type": "code",
        "colab": {
          "base_uri": "https://localhost:8080/",
          "height": 421
        },
        "outputId": "70c6b8d5-193e-450c-8182-7a7ba583f245"
      },
      "source": [
        "# Модель сети\n",
        "# Dropout слои помогают решить проблему преобучения\n",
        "\n",
        "model = models.Sequential()\n",
        "model.add(layers.Dense(512, kernel_regularizer=regularizers.l1(0.001), activation='relu', input_shape=(10000,)))\n",
        "model.add(layers.Dropout(0.25))\n",
        "model.add(layers.Dense(128, kernel_regularizer=regularizers.l1(0.001), activation='relu'))\n",
        "model.add(layers.Dropout(0.25))\n",
        "model.add(layers.Dense(256, kernel_regularizer=regularizers.l1(0.001), activation='relu'))\n",
        "model.add(layers.Dropout(0.25))\n",
        "model.add(layers.Dense(46, activation='softmax'))\n",
        "model.summary()"
      ],
      "execution_count": 11,
      "outputs": [
        {
          "output_type": "stream",
          "text": [
            "Model: \"sequential_1\"\n",
            "_________________________________________________________________\n",
            "Layer (type)                 Output Shape              Param #   \n",
            "=================================================================\n",
            "dense_3 (Dense)              (None, 512)               5120512   \n",
            "_________________________________________________________________\n",
            "dropout_2 (Dropout)          (None, 512)               0         \n",
            "_________________________________________________________________\n",
            "dense_4 (Dense)              (None, 128)               65664     \n",
            "_________________________________________________________________\n",
            "dropout_3 (Dropout)          (None, 128)               0         \n",
            "_________________________________________________________________\n",
            "dense_5 (Dense)              (None, 256)               33024     \n",
            "_________________________________________________________________\n",
            "dropout_4 (Dropout)          (None, 256)               0         \n",
            "_________________________________________________________________\n",
            "dense_6 (Dense)              (None, 46)                11822     \n",
            "=================================================================\n",
            "Total params: 5,231,022\n",
            "Trainable params: 5,231,022\n",
            "Non-trainable params: 0\n",
            "_________________________________________________________________\n"
          ],
          "name": "stdout"
        }
      ]
    },
    {
      "cell_type": "code",
      "metadata": {
        "id": "ZtyKnRSN_brM",
        "colab_type": "code",
        "colab": {
          "base_uri": "https://localhost:8080/",
          "height": 880
        },
        "outputId": "ea496cc5-c2b8-4a88-f6c2-53a76592ec76"
      },
      "source": [
        "# Обучение модели\n",
        "\n",
        "NumEpochs = 10\n",
        "BatchSize = 128\n",
        "\n",
        "model.compile(optimizer='rmsprop',loss='categorical_crossentropy', metrics=['accuracy'])\n",
        "history = model.fit(partial_x_train, partial_y_train, \n",
        "                    epochs=NumEpochs, \n",
        "                    batch_size=BatchSize, \n",
        "                    callbacks = [cb_EarlyStopping, cb_ModelCheckpoint, cb_ReduceLROnPlateau],\n",
        "                    validation_split=0.1, #validation_data=(x_val, y_val),\n",
        "                    verbose=1)\n",
        "\n",
        "results = model.evaluate(x_val, y_val)\n",
        "print(\"_\"*100)\n",
        "print(\"Test Loss and Accuracy\")\n",
        "print(\"results \", results)\n",
        "\n",
        "history_dict = history.history\n",
        "history_dict.keys()"
      ],
      "execution_count": 12,
      "outputs": [
        {
          "output_type": "stream",
          "text": [
            "Epoch 1/10\n",
            "57/57 [==============================] - ETA: 0s - loss: 12.8844 - accuracy: 0.5084\n",
            "Epoch 00001: val_accuracy improved from -inf to 0.59825, saving model to model.best.hdf5\n",
            "57/57 [==============================] - 8s 146ms/step - loss: 12.8844 - accuracy: 0.5084 - val_loss: 6.5304 - val_accuracy: 0.5982\n",
            "Epoch 2/10\n",
            "57/57 [==============================] - ETA: 0s - loss: 5.7485 - accuracy: 0.5718\n",
            "Epoch 00002: val_accuracy did not improve from 0.59825\n",
            "57/57 [==============================] - 8s 136ms/step - loss: 5.7485 - accuracy: 0.5718 - val_loss: 5.2613 - val_accuracy: 0.5970\n",
            "Epoch 3/10\n",
            "57/57 [==============================] - ETA: 0s - loss: 4.9920 - accuracy: 0.5942\n",
            "Epoch 00003: val_accuracy did not improve from 0.59825\n",
            "57/57 [==============================] - 7s 124ms/step - loss: 4.9920 - accuracy: 0.5942 - val_loss: 4.8477 - val_accuracy: 0.5857\n",
            "Epoch 4/10\n",
            "57/57 [==============================] - ETA: 0s - loss: 4.7140 - accuracy: 0.6181\n",
            "Epoch 00004: val_accuracy improved from 0.59825 to 0.63079, saving model to model.best.hdf5\n",
            "57/57 [==============================] - 7s 127ms/step - loss: 4.7140 - accuracy: 0.6181 - val_loss: 4.7325 - val_accuracy: 0.6308\n",
            "Epoch 5/10\n",
            "57/57 [==============================] - ETA: 0s - loss: 4.5757 - accuracy: 0.6398\n",
            "Epoch 00005: val_accuracy improved from 0.63079 to 0.66708, saving model to model.best.hdf5\n",
            "57/57 [==============================] - 7s 121ms/step - loss: 4.5757 - accuracy: 0.6398 - val_loss: 4.5344 - val_accuracy: 0.6671\n",
            "Epoch 6/10\n",
            "57/57 [==============================] - ETA: 0s - loss: 4.4945 - accuracy: 0.6524\n",
            "Epoch 00006: val_accuracy improved from 0.66708 to 0.69587, saving model to model.best.hdf5\n",
            "57/57 [==============================] - 7s 123ms/step - loss: 4.4945 - accuracy: 0.6524 - val_loss: 4.4317 - val_accuracy: 0.6959\n",
            "Epoch 7/10\n",
            "57/57 [==============================] - ETA: 0s - loss: 4.4254 - accuracy: 0.6675\n",
            "Epoch 00007: val_accuracy did not improve from 0.69587\n",
            "57/57 [==============================] - 7s 118ms/step - loss: 4.4254 - accuracy: 0.6675 - val_loss: 4.4487 - val_accuracy: 0.6909\n",
            "Epoch 8/10\n",
            "57/57 [==============================] - ETA: 0s - loss: 4.3869 - accuracy: 0.6730\n",
            "Epoch 00008: val_accuracy did not improve from 0.69587\n",
            "57/57 [==============================] - 7s 119ms/step - loss: 4.3869 - accuracy: 0.6730 - val_loss: 4.4018 - val_accuracy: 0.6959\n",
            "Epoch 9/10\n",
            "57/57 [==============================] - ETA: 0s - loss: 4.3391 - accuracy: 0.6836\n",
            "Epoch 00009: val_accuracy did not improve from 0.69587\n",
            "\n",
            "Epoch 00009: ReduceLROnPlateau reducing learning rate to 0.00010000000474974513.\n",
            "57/57 [==============================] - 7s 120ms/step - loss: 4.3391 - accuracy: 0.6836 - val_loss: 4.3395 - val_accuracy: 0.6946\n",
            "Epoch 10/10\n",
            "57/57 [==============================] - ETA: 0s - loss: 2.1234 - accuracy: 0.6909\n",
            "Epoch 00010: val_accuracy improved from 0.69587 to 0.70338, saving model to model.best.hdf5\n",
            "57/57 [==============================] - 7s 120ms/step - loss: 2.1234 - accuracy: 0.6909 - val_loss: 1.9894 - val_accuracy: 0.7034\n",
            "32/32 [==============================] - 1s 18ms/step - loss: 1.9044 - accuracy: 0.6920\n",
            "____________________________________________________________________________________________________\n",
            "Test Loss and Accuracy\n",
            "results  [1.9043989181518555, 0.6919999718666077]\n"
          ],
          "name": "stdout"
        },
        {
          "output_type": "execute_result",
          "data": {
            "text/plain": [
              "dict_keys(['loss', 'accuracy', 'val_loss', 'val_accuracy', 'lr'])"
            ]
          },
          "metadata": {
            "tags": []
          },
          "execution_count": 12
        }
      ]
    },
    {
      "cell_type": "code",
      "metadata": {
        "id": "sEus2YxYAaQa",
        "colab_type": "code",
        "colab": {
          "base_uri": "https://localhost:8080/",
          "height": 299
        },
        "outputId": "8ba63dc8-a2f2-4aca-fa88-a07c290cc827"
      },
      "source": [
        "plt.clf()\n",
        "loss = history.history['loss']\n",
        "val_loss = history.history['val_loss']\n",
        "epochs = range(1, len(loss) + 1)\n",
        "plt.plot(epochs, loss, 'bo', label='Training loss')\n",
        "plt.plot(epochs, val_loss, 'b', label='Validation loss')\n",
        "plt.title('Training and validation loss')\n",
        "plt.xlabel('Epochs')\n",
        "plt.ylabel('Loss')\n",
        "plt.legend()\n",
        "plt.show()"
      ],
      "execution_count": 13,
      "outputs": [
        {
          "output_type": "display_data",
          "data": {
            "image/png": "[encoded data removed]",
            "text/plain": [
              "<Figure size 432x288 with 1 Axes>"
            ]
          },
          "metadata": {
            "tags": [],
            "needs_background": "light"
          }
        }
      ]
    },
    {
      "cell_type": "code",
      "metadata": {
        "id": "xVDLWvNfAu3M",
        "colab_type": "code",
        "colab": {
          "base_uri": "https://localhost:8080/",
          "height": 299
        },
        "outputId": "f16cf50c-da05-46d0-9715-1d1d5807804b"
      },
      "source": [
        "plt.clf()\n",
        "acc = history.history['accuracy']\n",
        "val_acc = history.history['val_accuracy']\n",
        "plt.plot(epochs, acc, 'bo', label='Training acc')\n",
        "plt.plot(epochs, val_acc, 'b', label='Validation acc')\n",
        "plt.title('Training and validation accuracy')\n",
        "plt.xlabel('Epochs')\n",
        "plt.ylabel('Accuracy')\n",
        "plt.legend()\n",
        "plt.show()\n"
      ],
      "execution_count": 14,
      "outputs": [
        {
          "output_type": "display_data",
          "data": {
            "image/png": "[encoded data removed]",
            "text/plain": [
              "<Figure size 432x288 with 1 Axes>"
            ]
          },
          "metadata": {
            "tags": [],
            "needs_background": "light"
          }
        }
      ]
    },
    {
      "cell_type": "code",
      "metadata": {
        "id": "hluJQ-BDAxU8",
        "colab_type": "code",
        "colab": {
          "base_uri": "https://localhost:8080/",
          "height": 72
        },
        "outputId": "0e27a279-336c-4ac7-94f6-ba68819d7040"
      },
      "source": [
        "# Прогноз\n",
        "\n",
        "predictions = model.predict(x_test)\n",
        "# Каждый прогноз это вектор из 46 коэффициентов\n",
        "print(predictions[123].shape)\n",
        "\n",
        "# Сумма уоэффициентов должна быть равна единице\n",
        "print(np.sum(predictions[123]))\n",
        "\n",
        "# Наксимальный коэффициент соответствует предсказанному классу\n",
        "print(np.argmax(predictions[123]))"
      ],
      "execution_count": 15,
      "outputs": [
        {
          "output_type": "stream",
          "text": [
            "(46,)\n",
            "0.99999994\n",
            "4\n"
          ],
          "name": "stdout"
        }
      ]
    },
    {
      "cell_type": "code",
      "metadata": {
        "id": "cEzAZz-mGUaL",
        "colab_type": "code",
        "colab": {
          "base_uri": "https://localhost:8080/",
          "height": 35
        },
        "outputId": "65f999cb-23b3-4893-83b2-138909f4d8f1"
      },
      "source": [
        "# Получим 3 наиболее предсказываемых класса\n",
        "predictions[21].argsort()[-3:][::-1]"
      ],
      "execution_count": 16,
      "outputs": [
        {
          "output_type": "execute_result",
          "data": {
            "text/plain": [
              "array([ 3,  4, 16])"
            ]
          },
          "metadata": {
            "tags": []
          },
          "execution_count": 16
        }
      ]
    },
    {
      "cell_type": "code",
      "metadata": {
        "id": "SdZC8w0mGUTl",
        "colab_type": "code",
        "colab": {
          "base_uri": "https://localhost:8080/",
          "height": 35
        },
        "outputId": "71422050-429e-4c4c-e21a-41f1801fb1c3"
      },
      "source": [
        "test_labels[21]"
      ],
      "execution_count": 17,
      "outputs": [
        {
          "output_type": "execute_result",
          "data": {
            "text/plain": [
              "3"
            ]
          },
          "metadata": {
            "tags": []
          },
          "execution_count": 17
        }
      ]
    },
    {
      "cell_type": "code",
      "metadata": {
        "id": "sgccgJhVGXFh",
        "colab_type": "code",
        "colab": {
          "base_uri": "https://localhost:8080/",
          "height": 72
        },
        "outputId": "bd2f76d1-4232-463d-82ee-b288ea458d0e"
      },
      "source": [
        "SampleNum = 2125\n",
        "\n",
        "print(test_labels[SampleNum])\n",
        "print(predictions[SampleNum].argsort()[-3:][::-1])\n",
        "\n",
        "test_labels[SampleNum] in predictions[SampleNum].argsort()[-3:][::-1]"
      ],
      "execution_count": 18,
      "outputs": [
        {
          "output_type": "stream",
          "text": [
            "6\n",
            "[ 4  3 19]\n"
          ],
          "name": "stdout"
        },
        {
          "output_type": "execute_result",
          "data": {
            "text/plain": [
              "False"
            ]
          },
          "metadata": {
            "tags": []
          },
          "execution_count": 18
        }
      ]
    },
    {
      "cell_type": "code",
      "metadata": {
        "id": "d1id2tjVGXm6",
        "colab_type": "code",
        "colab": {
          "base_uri": "https://localhost:8080/",
          "height": 164
        },
        "outputId": "fb74e4ab-bc09-40c7-d3ea-81fad5331642"
      },
      "source": [
        "Top3Preds = np.zeros((2246,3), dtype=int)\n",
        "print(Top3Preds.shape)\n",
        "\n",
        "for SampleNum in range(predictions.shape[0]):\n",
        "    Top3Preds[SampleNum] = predictions[SampleNum].argsort()[-3:][::-1]\n",
        "    \n",
        "Top3Preds"
      ],
      "execution_count": 19,
      "outputs": [
        {
          "output_type": "stream",
          "text": [
            "(2246, 3)\n"
          ],
          "name": "stdout"
        },
        {
          "output_type": "execute_result",
          "data": {
            "text/plain": [
              "array([[ 3,  4, 20],\n",
              "       [ 1, 16, 13],\n",
              "       [ 1, 16, 13],\n",
              "       ...,\n",
              "       [ 3,  4, 20],\n",
              "       [ 3,  4, 16],\n",
              "       [ 1, 11, 16]])"
            ]
          },
          "metadata": {
            "tags": []
          },
          "execution_count": 19
        }
      ]
    },
    {
      "cell_type": "code",
      "metadata": {
        "id": "EI-Pn3zmGcIJ",
        "colab_type": "code",
        "colab": {
          "base_uri": "https://localhost:8080/",
          "height": 164
        },
        "outputId": "6ef3a926-051b-4783-d238-af32f92211d2"
      },
      "source": [
        "\n",
        "FinalPreds = np.zeros((2246,1), dtype=int)\n",
        "print(FinalPreds.shape)\n",
        "\n",
        "for SampleNum in range(Top3Preds.shape[0]):\n",
        "    if test_labels[SampleNum] in Top3Preds[SampleNum]:\n",
        "        FinalPreds[SampleNum] = 1\n",
        "        \n",
        "FinalPreds"
      ],
      "execution_count": 20,
      "outputs": [
        {
          "output_type": "stream",
          "text": [
            "(2246, 1)\n"
          ],
          "name": "stdout"
        },
        {
          "output_type": "execute_result",
          "data": {
            "text/plain": [
              "array([[1],\n",
              "       [0],\n",
              "       [1],\n",
              "       ...,\n",
              "       [1],\n",
              "       [1],\n",
              "       [0]])"
            ]
          },
          "metadata": {
            "tags": []
          },
          "execution_count": 20
        }
      ]
    },
    {
      "cell_type": "code",
      "metadata": {
        "id": "JcuKxsQRGeO7",
        "colab_type": "code",
        "colab": {
          "base_uri": "https://localhost:8080/",
          "height": 35
        },
        "outputId": "38332aa4-84a0-44bd-86f3-82087064d44a"
      },
      "source": [
        "FinalPreds = pd.DataFrame(FinalPreds)\n",
        "NumTop3 = FinalPreds[0][FinalPreds[0] == 1].count()\n",
        "percentTop3 = round(100 *NumTop3 / FinalPreds.shape[0], 1)\n",
        "\n",
        "print('Percent of one from top 3 being correct ... ', percentTop3, '%')"
      ],
      "execution_count": 21,
      "outputs": [
        {
          "output_type": "stream",
          "text": [
            "Percent of one from top 3 being correct ...  77.2 %\n"
          ],
          "name": "stdout"
        }
      ]
    },
    {
      "cell_type": "code",
      "metadata": {
        "id": "ZxMYF6b9aVlD",
        "colab_type": "code",
        "colab": {}
      },
      "source": [
        ""
      ],
      "execution_count": null,
      "outputs": []
    }
  ]
}